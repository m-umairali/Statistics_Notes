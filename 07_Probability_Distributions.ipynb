{
 "cells": [
  {
   "attachments": {},
   "cell_type": "markdown",
   "metadata": {},
   "source": [
    "## Probability Distributions\n",
    "Probability distribution is a mathematical function that describes the **likelihood of different outcomes in a random event or experiment**.\n",
    "In data science, probability distributions are used to model and analyze data, estimate the likelihood of different outcomes, make predictions, and perform statistical inference. They are crucial for understanding and making decisions based on data.\n",
    "\n",
    "## Types of probability functions\n",
    "\n",
    "1. Discrete\n",
    "2. Continous\n",
    "\n",
    "![](https://files.ai-pool.com/a/e26089688028a208fcf058af4425aa6c.png)\n",
    "\n",
    "where x is the values and y is the porbability of that value.\n",
    "\n",
    "\n",
    "\n",
    "\n",
    "![](https://i.pinimg.com/originals/a1/28/f2/a128f2ff6208151bc26e311ed3720a37.jpg)\n",
    "\n",
    "\n",
    "![](https://analyticsbuddhu.files.wordpress.com/2017/02/overview-prob-distr.png)"
   ]
  },
  {
   "attachments": {},
   "cell_type": "markdown",
   "metadata": {},
   "source": [
    "## Why probability distribution is important\n",
    "- Gives an idea about the shape/distribution of the data\n",
    "- If our data follows the a famous distribution pattern then we can automatically know alot about the data.\n",
    "\n",
    "\n",
    "#### Probability Distributions Function Paramter\n",
    "- Parameters in PDF are numerical values that determines the shape, location and scale of distribution.\n",
    "- Different PDF have different parameters and understanding these parameters are essential for statistical analysis.\n",
    "- Parameters are just like tunning knobs which are responsible for changing the shape of the graph."
   ]
  },
  {
   "attachments": {},
   "cell_type": "markdown",
   "metadata": {},
   "source": [
    "___"
   ]
  }
 ],
 "metadata": {
  "kernelspec": {
   "display_name": "global",
   "language": "python",
   "name": "python3"
  },
  "language_info": {
   "codemirror_mode": {
    "name": "ipython",
    "version": 3
   },
   "file_extension": ".py",
   "mimetype": "text/x-python",
   "name": "python",
   "nbconvert_exporter": "python",
   "pygments_lexer": "ipython3",
   "version": "3.10.9"
  },
  "orig_nbformat": 4
 },
 "nbformat": 4,
 "nbformat_minor": 2
}
