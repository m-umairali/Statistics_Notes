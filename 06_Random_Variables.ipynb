{
 "cells": [
  {
   "attachments": {},
   "cell_type": "markdown",
   "metadata": {},
   "source": [
    "## Algebric Variable\n",
    "In algebra, a variable is a symbol that represents a quantity that can vary or take on different values. Variables are typically represented by letters such as `x, y, or z.`\n",
    "\n",
    "In mathematics, variables are used to represent unknown values in equations or expressions. By assigning a value to a variable, we can evaluate an expression or solve an equation. For example, in the equation `2x + 3 = 7`, `x` is a variable that represents an unknown value. <br>By solving for `x`, we can find that `x = 2`.\n",
    "\n",
    "## Random Variable in Statisitcs and Probability\n",
    "In statistics and probability, a random variable is a variable that takes on numerical values based on the outcomes of a random process or experiment.\n",
    "> For example, consider rolling a six-sided die. The outcome of rolling the die is a random variable, as it takes on different values (1, 2, 3, 4, 5, or 6) with certain probabilities. Another example is the height of students in a class. The height of each student can be considered a random variable, as it takes on different values with certain probabilities.\n",
    "\n",
    "In statistics and probability, random variables are used to model and analyze the behavior of various systems and processes. They are fundamental to many statistical methods and techniques, such as probability distributions, hypothesis testing, and regression analysis.\n",
    "\n",
    "![](https://upload.wikimedia.org/wikipedia/commons/c/c4/Random_Variable_as_a_Function-en.svg)"
   ]
  },
  {
   "cell_type": "code",
   "execution_count": null,
   "metadata": {},
   "outputs": [],
   "source": []
  }
 ],
 "metadata": {
  "language_info": {
   "name": "python"
  },
  "orig_nbformat": 4
 },
 "nbformat": 4,
 "nbformat_minor": 2
}
