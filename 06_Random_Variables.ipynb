{
 "cells": [
  {
   "attachments": {},
   "cell_type": "markdown",
   "metadata": {},
   "source": [
    "## Algebric Variable\n",
    "In algebra, a variable is a symbol that represents a quantity that can vary or take on different values. Variables are typically represented by letters such as `x, y, or z.`\n",
    "\n",
    "In mathematics, variables are used to represent unknown values in equations or expressions. By assigning a value to a variable, we can evaluate an expression or solve an equation. For example, in the equation `2x + 3 = 7`, `x` is a variable that represents an unknown value. <br>By solving for `x`, we can find that `x = 2`.\n",
    "\n",
    "## Random Variable in Statisitcs and Probability\n",
    "In statistics and probability, a random variable is a variable that takes on numerical values based on the outcomes of a random process or experiment. Always denoted by capital letter.\n",
    "> For example, consider rolling a six-sided die. The outcome of rolling the die is a random variable, as it takes on different values (1, 2, 3, 4, 5, or 6) with certain probabilities. Another example is the height of students in a class. The height of each student can be considered a random variable, as it takes on different values with certain probabilities.\n",
    "\n",
    "In statistics and probability, random variables are used to model and analyze the behavior of various systems and processes. They are fundamental to many statistical methods and techniques, such as probability distributions, hypothesis testing, and regression analysis.\n",
    "\n",
    "![](https://upload.wikimedia.org/wikipedia/commons/c/c4/Random_Variable_as_a_Function-en.svg)\n",
    "\n",
    "\n",
    "> In the Titanic dataset, let's suppose we take age and gender random variable. By taking this example, random variable tells us how many time (probability) of age will occur to the variable age. For example how many time 25 age is occuring in the male variable.\n",
    "\n",
    "### Q:  Is it not necessary to have two variables to calculate the probability of a random variable.?\n",
    "- No, it is not necessary to have two variables to calculate the probability of a random variable. In fact, some random variables take on only a single value, such as the result of a coin flip (which can be either heads or tails), or the number of cars in a garage (which can be only a whole number).\n",
    "\n",
    "- In these cases, the probability of the random variable is simply the probability of the single value it takes on. For example, if we flip a fair coin, the probability of the random variable \"result of the coin flip\" being heads is 0.5, and the probability of it being tails is also 0.5.\n",
    "\n",
    "- However, in many cases, we are interested in the joint probability of multiple random variables, or the conditional probability of one variable given another. For example, we may want to know the probability of a passenger surviving the Titanic given their gender and age. In such cases, we would need to consider the joint probability of the survival status, gender, and age variables.\n",
    "\n",
    "## Types of Random Variables:\n",
    "1. Discrete Random Variables\n",
    "    - A discrete random variable can take on a finite or countable number of possible values. Examples of discrete random variables include the number of heads in a series of coin tosses, the number of students in a classroom, or the number of defects in a batch of products. It usually takes the whole number. \n",
    "2. Continous Random Variables\n",
    "    - Continuous random variable can take on an infinite number of possible values within a certain range or interval. Examples of continuous random variables include height, weight, or time taken to complete a task\n",
    "\n",
    "\n",
    "| Discrete R. Variable (Students Class strength)  | Continuous R. Variable (Students height) |\n",
    "|---|---|\n",
    "| 25 | 56.3 |\n",
    "| 19 | 62.1 |\n",
    "| 32 | 58.9 |\n",
    "| 16 | 61.2 |\n",
    "| 21 | 59.7 |\n",
    "\n",
    "\n",
    "\n",
    "### Why Categorical variables are not typically considered as type of random variables?\n",
    "Categorical variables are not typically considered as types of random variables in probability and statistics, but they are an important type of variable used in data analysis.\n",
    "\n",
    "A categorical variable is a type of variable that can take on one of a limited number of possible categories or labels. Examples include gender (male/female), color (red/blue/green), or type of animal (mammal/reptile/bird).\n",
    "\n",
    "While categorical variables are not considered as types of random variables, they are often used in conjunction with random variables in statistical analyses. For example, we may use a categorical variable like gender to analyze differences in a continuous random variable like income."
   ]
  },
  {
   "cell_type": "code",
   "execution_count": null,
   "metadata": {},
   "outputs": [],
   "source": []
  }
 ],
 "metadata": {
  "language_info": {
   "name": "python"
  },
  "orig_nbformat": 4
 },
 "nbformat": 4,
 "nbformat_minor": 2
}
