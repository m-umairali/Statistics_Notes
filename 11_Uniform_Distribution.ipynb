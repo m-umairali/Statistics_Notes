{
 "cells": [
  {
   "attachments": {},
   "cell_type": "markdown",
   "metadata": {},
   "source": [
    "## Uniform Distributions\n",
    "Uniform distribution is a probability distribution where every value in a given interval has an equal chance of occurring. This means that the probability of an event occurring at any point within the interval is uniform or constant. The probability density function of a uniform distribution is a constant over the interval and zero elsewhere. \n",
    "\n",
    "<img src=\"https://upload.wikimedia.org/wikipedia/commons/thumb/9/96/Uniform_Distribution_PDF_SVG.svg/1200px-Uniform_Distribution_PDF_SVG.svg.png\" alt=\"drawing\" width=\"45%\" height=\"400\"/>\n",
    "\n",
    "where values of a and b are similar or same range and other values are zero."
   ]
  },
  {
   "cell_type": "code",
   "execution_count": null,
   "metadata": {},
   "outputs": [],
   "source": []
  }
 ],
 "metadata": {
  "language_info": {
   "name": "python"
  },
  "orig_nbformat": 4
 },
 "nbformat": 4,
 "nbformat_minor": 2
}
