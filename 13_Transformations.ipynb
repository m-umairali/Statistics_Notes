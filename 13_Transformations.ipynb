{
 "cells": [
  {
   "attachments": {},
   "cell_type": "markdown",
   "metadata": {},
   "source": [
    "## Transforms\n",
    "\n",
    "There are several methods for transforming data into a normal distribution, including:\n",
    "\n",
    "1. Log transform\n",
    "2. Reciprocal\n",
    "3. Power (Square and square root)\n",
    "4. Box-Cox\n",
    "5. Yeo-johnson\n",
    "6. You can also build your own custom transformation\n",
    "\n",
    "\n",
    "<img src=\"./Media/Transforms.png\" alt=\"drawing\" width=\"60%\" height=\"400\"/>"
   ]
  },
  {
   "attachments": {},
   "cell_type": "markdown",
   "metadata": {},
   "source": [
    "### why we convert into normal distributions??\n",
    "Converting data into a normal distribution is important in many statistical analyses because many statistical tests and models assume that the data follows a normal distribution. If the data is not normally distributed, these tests and models may not be appropriate or may not provide accurate results.\n",
    "\n",
    "Many statistical models, such as linear regression and ANOVA, assume that the data is normally distributed. When data is not normally distributed, these models may not be valid, or may provide inaccurate results.\n",
    "\n"
   ]
  },
  {
   "attachments": {},
   "cell_type": "markdown",
   "metadata": {},
   "source": [
    "## Log Transform\n",
    "Log transform is a common technique used to convert non-normally distributed data to a more normal distribution. It involves taking the natural logarithm of the data values, which can help to reduce the skewness and spread of the data.\n",
    "\n",
    "The log transformation is particularly useful when the data has a long right tail, as it can help to bring the high values closer to the mean and reduce the influence of extreme outliers. The transformation also has the effect of compressing the scale of the data, which can make it easier to interpret and analyze.\n",
    "\n",
    "In machine learning, log transformation is commonly used to preprocess data before feeding it into models that assume normality, such as linear regression models. It can help to improve the accuracy and stability of these models by reducing the impact of extreme values and outliers, and making the data more amenable to the assumptions of the model.\n",
    "\n",
    "However, it is important to note that log transformation is not always appropriate or effective for all types of data. It should be used with caution and with an understanding of the underlying properties of the data and the specific requirements of the machine learning model being used.\n",
    "\n",
    "Note:\n",
    "- Cannot use for negative values\n",
    "- Good for right skewed data\n"
   ]
  },
  {
   "attachments": {},
   "cell_type": "markdown",
   "metadata": {},
   "source": [
    "## Reciprocal Transform\n",
    "Reciprocal transform is a technique used to transform non-normally distributed data by taking the reciprocal of each data point. Specifically, the reciprocal of each data point is computed by taking the inverse of the original value, such that the transformed value is equal to 1 divided by the original value.\n",
    "\n",
    "The reciprocal transform is particularly useful when the data has a long left tail, as it can help to bring the low values closer to the mean and reduce the influence of extreme outliers. Similar to the log transform, the reciprocal transform also has the effect of compressing the scale of the data, making it easier to interpret and analyze.\n",
    "\n",
    "In machine learning, reciprocal transform can be used to preprocess data before feeding it into models that assume normality, such as linear regression models. However, it is important to note that reciprocal transform may not always be effective, and should be used with caution and with an understanding of the underlying properties of the data and the specific requirements of the machine learning model being used.\n",
    "\n",
    "It is also important to note that reciprocal transform may not be appropriate for data that contains zero or negative values, as the transform is undefined for these values. In such cases, alternative transforms such as log transform or Box-Cox transform may be more suitable."
   ]
  },
  {
   "attachments": {},
   "cell_type": "markdown",
   "metadata": {},
   "source": [
    "## Power Transformer\n",
    "\n",
    "### Box Cox\n",
    "A Box Cox transformation is a transformation of non-normal dependent variables into a normal shape. Normality is an important assumption for many statistical techniques; if your data isn’t normal, applying a Box-Cox means that you are able to run a broader number of tests.\n",
    "At the core of the Box Cox transformation is an exponent, lambda (λ), which varies from -5 to 5. All values of λ are considered and the optimal value for your data is selected; The “optimal value” is the one which results in the best approximation of a normal distribution curve. \n",
    "\n",
    "Note: Not good for n > 0 and -ve values\n",
    "\n",
    "For this there is another transformer that comes into picture which is Yeo Johnson\n",
    "\n",
    "\n",
    "### Yeo-Johnson\n",
    "\n",
    "The Yeo-Johnson transformation is a more flexible transformation method than the Box-Cox transformation. The Box-Cox transformation requires the data to be positive or to be shifted to positive values by adding a constant value. The Yeo-Johnson transformation can handle negative data values and also has the advantage of being able to transform data with a wider range of skewness values, including extreme values."
   ]
  }
 ],
 "metadata": {
  "kernelspec": {
   "display_name": "global",
   "language": "python",
   "name": "python3"
  },
  "language_info": {
   "codemirror_mode": {
    "name": "ipython",
    "version": 3
   },
   "file_extension": ".py",
   "mimetype": "text/x-python",
   "name": "python",
   "nbconvert_exporter": "python",
   "pygments_lexer": "ipython3",
   "version": "3.10.9"
  },
  "orig_nbformat": 4
 },
 "nbformat": 4,
 "nbformat_minor": 2
}
