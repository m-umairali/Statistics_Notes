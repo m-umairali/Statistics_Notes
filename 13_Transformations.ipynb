{
 "cells": [
  {
   "attachments": {},
   "cell_type": "markdown",
   "metadata": {},
   "source": [
    "## Transforms\n",
    "\n",
    "There are several methods for transforming data into a normal distribution, including:\n",
    "\n",
    "1. Log transform\n",
    "2. Reciprocal\n",
    "3. Power (Square and square root)\n",
    "4. Box-Cox\n",
    "5. Yeo-johnson\n",
    "6. You can also build your own custom transformation\n",
    "\n",
    "\n",
    "<img src=\"./Media/Transforms.png\" alt=\"drawing\" width=\"60%\" height=\"400\"/>"
   ]
  },
  {
   "attachments": {},
   "cell_type": "markdown",
   "metadata": {},
   "source": [
    "### why we convert into normal distributions??\n",
    "Converting data into a normal distribution is important in many statistical analyses because many statistical tests and models assume that the data follows a normal distribution. If the data is not normally distributed, these tests and models may not be appropriate or may not provide accurate results.\n",
    "\n",
    "Many statistical models, such as linear regression and ANOVA, assume that the data is normally distributed. When data is not normally distributed, these models may not be valid, or may provide inaccurate results.\n",
    "\n"
   ]
  },
  {
   "cell_type": "code",
   "execution_count": 1,
   "metadata": {},
   "outputs": [],
   "source": [
    "import seaborn as sns"
   ]
  },
  {
   "cell_type": "code",
   "execution_count": null,
   "metadata": {},
   "outputs": [],
   "source": [
    "x = [1,2,3,443,54,3,45,3,45,34,5,2345,,234,213,4,214,23,412,4,12,34,53,5,345,23,5,3245,345,23,53,45,2345,2345,325,32,5,235,234,532,5]\n",
    "\n"
   ]
  },
  {
   "attachments": {},
   "cell_type": "markdown",
   "metadata": {},
   "source": []
  },
  {
   "cell_type": "code",
   "execution_count": null,
   "metadata": {},
   "outputs": [],
   "source": []
  }
 ],
 "metadata": {
  "kernelspec": {
   "display_name": "global",
   "language": "python",
   "name": "python3"
  },
  "language_info": {
   "codemirror_mode": {
    "name": "ipython",
    "version": 3
   },
   "file_extension": ".py",
   "mimetype": "text/x-python",
   "name": "python",
   "nbconvert_exporter": "python",
   "pygments_lexer": "ipython3",
   "version": "3.10.9"
  },
  "orig_nbformat": 4
 },
 "nbformat": 4,
 "nbformat_minor": 2
}
