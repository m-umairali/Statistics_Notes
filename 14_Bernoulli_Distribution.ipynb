{
 "cells": [
  {
   "attachments": {},
   "cell_type": "markdown",
   "metadata": {},
   "source": [
    "## Benoulli distribution\n",
    "The Benoulli distribution is a discrete probability distribution that describes a single Bernoulli trial, which is a random experiment that can have two possible outcomes: success or failure. \n",
    "\n",
    "The Bernoulli distribution is often used in binary classification problems in statistics and machine learning, where the outcome of a single trial is either a success (positive class) or a failure (negative class).\n",
    "\n",
    "\n",
    "The probability mass function of the Bernoulli distribution is defined as:\n",
    "\n",
    "P(X = 1) = p\n",
    "\n",
    "P(X = 0) = q = 1 - p\n",
    "\n",
    "Where X is the random variable that takes on the value of 1 if the Bernoulli trial is a success, and 0 if it is a failure.\n",
    "\n",
    "\n",
    "<img src=\"https://upload.wikimedia.org/wikipedia/commons/7/74/Bernoulli_Distribution.PNG\" alt=\"drawing\" width=\"45%\" height=\"400\"/>"
   ]
  },
  {
   "cell_type": "markdown",
   "metadata": {},
   "source": []
  }
 ],
 "metadata": {
  "language_info": {
   "name": "python"
  },
  "orig_nbformat": 4
 },
 "nbformat": 4,
 "nbformat_minor": 2
}
