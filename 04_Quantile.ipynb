{
 "cells": [
  {
   "attachments": {},
   "cell_type": "markdown",
   "metadata": {},
   "source": [
    "## Quantiles and Percentiles\n",
    "Quantiles are statistica measures used to divide a set of numerical data into equal sized groups, with each group containing an equal number of observations.\n",
    "\n",
    "Quantiles are important measure of **variablitiy** and can be use to understand distribution of data, summarize and compare different datasets. They can also be used to identify outliers.\n",
    "\n",
    "There are several types of quantiles used in statistical analysis: \n",
    "\n",
    "1. Quartiles: <br>\n",
    " A quartile is a type of quantile that divides a dataset into four equal parts. Specifically, the first quartile (also known as Q1 or the 25th percentile) is the value that separates the lowest 25% of the data from the rest, the second quartile (also known as Q2 or the 50th percentile) is the value that separates the lowest 50% of the data from the rest (this is also the median), and the third quartile (also known as Q3 or the 75th percentile) is the value that separates the lowest 75% of the data from the rest.\n",
    "\n",
    "![](https://sigmamagic.com/blogs/images/quartiles.jpg)\n",
    "\n",
    "2. Decile: <br>\n",
    "A decile is a type of quantile that divides a dataset into ten equal parts. Specifically, the first decile (also known as D1 or the 10th percentile) is the value that separates the lowest 10% of the data from the rest, the second decile (also known as D2 or the 20th percentile) is the value that separates the lowest 20% of the data from the rest, and so on, up to the tenth decile (also known as D10 or the 100th percentile), which represents the maximum value in the dataset.\n",
    "\n",
    "![](https://slideplayer.com/slide/15453981/93/images/5/Deciles+D1%2C+D2%2C+D3%2C+D4%2C+D5%2C+D6%2C+D7%2C+D8%2C+D9.+divides+ranked+data+into+ten+equal+parts.+10%25.jpg)\n",
    "\n",
    "3. Percentile: <br>\n",
    "A percentile is a type of quantile that divides a dataset into 100 equal parts. Specifically, the nth percentile is the value that separates the lowest n% of the data from the rest, where n can range from 1 to 100. For example, the 25th percentile (also known as the first quartile or Q1) is the value that separates the lowest 25% of the data from the rest, and the 75th percentile (also known as the third quartile or Q3) is the value that separates the lowest 75% of the data from the rest.\n",
    "\n",
    "![](https://www.mathsisfun.com/data/images/percentile-80.svg)\n",
    "\n",
    "4. Quintile: <br>\n",
    "A quintile is a type of quantile that divides a dataset into five equal parts. Specifically, the first quintile (also known as Q1 or the 20th percentile) is the value that separates the lowest 20% of the data from the rest, the second quintile (also known as Q2 or the 40th percentile) is the value that separates the lowest 40% of the data from the rest, and so on, up to the fifth quintile (also known as Q5 or the 100th percentile), which represents the maximum value in the dataset.\n"
   ]
  },
  {
   "attachments": {},
   "cell_type": "markdown",
   "metadata": {},
   "source": [
    "## Things to remember while calculating these measures:\n",
    "1. Data should be sorted from low to high\n",
    "2. You are basically finding the location of an observation.\n",
    "3. They are not actual values in the data\n",
    "4. All other ties can be easily derived from percentile"
   ]
  },
  {
   "attachments": {},
   "cell_type": "markdown",
   "metadata": {},
   "source": [
    "## Percentiles\n",
    "So we can derived other 'tiles' from the Percentile so it is important to read percentile so that other measure can be derived whenever you want.\n",
    "\n",
    "Percentile is a measure used to describe how a specific value in a dataset compares to other values in the same dataset. It tells you what percentage of the values in the dataset fall below that specific value.\n",
    "\n",
    "For example, if you score in the 90th percentile on a test, it means that you performed better than 90% of the people who took the same test. The percentile is based on the rank of your score compared to all the other scores in the dataset.\n",
    "\n",
    "Percentiles are commonly used in many fields, including education, healthcare, and finance, to compare the performance or status of individuals to a larger group or population. They can also be used to identify outliers or extreme values in a dataset.\n",
    "\n",
    "![](https://cdn.wallstreetmojo.com/wp-content/uploads/2019/04/Percentile-Rank-Formula-1.jpg)\n",
    "\n",
    "- where R is the desired percentile location\n",
    "- N is the total number of observation in the dataset\n",
    "- P is the percentile rank (expressed as percentage)\n",
    "\n",
    "Example:\n",
    "\n",
    "- Find the 75th percentile of the given data step by step\n",
    "> 78,82,84,86,88,90,92,93,95,96,99\n",
    "\n",
    "To find the 75th percentile of the given data, follow these steps:\n",
    "\n",
    "- Order the data set from smallest to largest:\n",
    "78, 82, 84, 86, 88, 90, 92, 93, 95, 96, 99\n",
    "\n",
    "- Calculate the index of the 75th percentile using the formula:\n",
    "Index = (percentile/100) x (n + 1) <br>\n",
    "where percentile = 75 and n = the number of data points in the set. <br>\n",
    "In this case, n = 11, so <br>\n",
    "Index = (75/100) x (11 + 1) = 8.\n",
    "\n",
    "- Since the index is not a whole number, we need to interpolate to find the 75th percentile value. To do this, we take the average of the 8th and 9th values in the ordered data set: <br>\n",
    "(92 + 93)/2 = 92.5.\n",
    "\n",
    "- Therefore, the 75th percentile of the given data is 92.5"
   ]
  },
  {
   "attachments": {},
   "cell_type": "markdown",
   "metadata": {},
   "source": [
    "## 5 Number Summary\n",
    "The 5 number summary is a set of descriptive statistics that provides a summary of the distribution of a dataset. It includes the following five values:\n",
    "\n",
    "1. Minimum: the smallest value in the dataset.\n",
    "2. Q1 or the first quartile: the value that separates the lowest 25% of the data from the rest.\n",
    "3. Median or the second quartile: the value that separates the lowest 50% of the data from the rest.\n",
    "4. Q3 or the third quartile: the value that separates the lowest 75% of the data from the rest.\n",
    "5. Maximum: the largest value in the dataset.\n",
    "\n",
    "The 5 number summary is often used in box plots, which visually display the 5 number summary as a box with whiskers. The box represents the middle 50% of the data, with the bottom and top of the box representing Q1 and Q3, respectively. The line inside the box represents the median, and the whiskers extend to the minimum and maximum values in the dataset. The 5 number summary is useful for quickly summarizing the distribution of a dataset and identifying any outliers.\n",
    "\n",
    "![](https://www.statisticshowto.com/wp-content/uploads/2009/08/boxplot4.bmp)\n",
    "\n",
    "## Inter Quartile Range IQR\n",
    "IQR stands for interquartile range, which is a measure of variability or spread of a dataset. Specifically, it is the range of values that fall between the first quartile (Q1) and the third quartile (Q3) of a dataset.\n",
    "\n",
    "![](https://cdn.scribbr.com/wp-content/uploads/2022/11/Interquartile-range-example.webp)\n",
    "\n",
    "- What is difference between 5 number summary and IQR\n",
    "    - The 5 number summary and the interquartile range (IQR) are two descriptive statistics used to summarize the distribution of a dataset.\n",
    "\n",
    "    - The 5 number summary consists of the minimum value, the first quartile (Q1), the median, the third quartile (Q3), and the maximum value. It gives a complete picture of the distribution, including the range of the data and the spread of the middle 50% of the data.\n",
    "\n",
    "    - On the other hand, the interquartile range (IQR) is the range of values that fall between the first quartile (Q1) and the third quartile (Q3). It is calculated as IQR = Q3 - Q1. The IQR provides a measure of the spread of the middle 50% of the data and is less affected by outliers than the range, which includes the minimum and maximum values.\n",
    "\n",
    "    - In summary, while the 5 number summary provides a complete picture of the distribution of a dataset, including the range and quartiles, the IQR is a measure of the spread of the middle 50% of the data and is less affected by outliers.\n"
   ]
  },
  {
   "attachments": {},
   "cell_type": "markdown",
   "metadata": {},
   "source": [
    "## Boxplot\n",
    "A boxplot, also known as a box-and-whisker plot, is a graphical representation of the distribution of a dataset. It is constructed based on the five-number summary, which includes the minimum value, the first quartile (Q1), the median, the third quartile (Q3), and the maximum value of the data.\n",
    "\n",
    "Boxplots are useful for identifying the center, spread, and skewness of a dataset, as well as for identifying potential outliers. They can be used to compare the distributions of multiple datasets side-by-side. <br>\n",
    "Boxplots are commonly used in exploratory data analysis and in statistical inference, as they provide a quick and informative summary of the data.\n",
    "\n",
    "![](https://builtin.com/sites/www.builtin.com/files/styles/ckeditor_optimize/public/inline-images/1_boxplots.jpg)"
   ]
  },
  {
   "cell_type": "code",
   "execution_count": 1,
   "metadata": {},
   "outputs": [
    {
     "data": {
      "text/plain": [
       "<Axes: xlabel='Column'>"
      ]
     },
     "execution_count": 1,
     "metadata": {},
     "output_type": "execute_result"
    },
    {
     "data": {
      "image/png": "[encoded data removed]",
      "text/plain": [
       "<Figure size 640x480 with 1 Axes>"
      ]
     },
     "metadata": {},
     "output_type": "display_data"
    }
   ],
   "source": [
    "import seaborn as sns\n",
    "import pandas as pd\n",
    "\n",
    "# create a sample dataset\n",
    "data = pd.DataFrame({'Column': [10, 20, 30, 40, 50, 60, 70, 80, 90, 100]})\n",
    "\n",
    "# create a boxplot of the 'Column' column using Seaborn\n",
    "sns.boxplot(x='Column', data=data)\n"
   ]
  },
  {
   "cell_type": "code",
   "execution_count": 2,
   "metadata": {},
   "outputs": [
    {
     "data": {
      "text/plain": [
       "<Axes: xlabel='Gender', ylabel='Weight'>"
      ]
     },
     "execution_count": 2,
     "metadata": {},
     "output_type": "execute_result"
    },
    {
     "data": {
      "image/png": "[encoded data removed]",
      "text/plain": [
       "<Figure size 640x480 with 1 Axes>"
      ]
     },
     "metadata": {},
     "output_type": "display_data"
    }
   ],
   "source": [
    "import seaborn as sns\n",
    "import pandas as pd\n",
    "\n",
    "# create a sample dataset\n",
    "data = pd.DataFrame({\n",
    "    'Gender': ['Male', 'Male', 'Female', 'Female', 'Male', 'Female', 'Male', 'Female', 'Male', 'Female'],\n",
    "    'Weight': [70, 80, 60, 65, 75, 68, 85, 72, 78, 62]\n",
    "})\n",
    "\n",
    "# create a boxplot of weight by gender using Seaborn\n",
    "sns.boxplot(x='Gender', y='Weight', data=data)\n"
   ]
  },
  {
   "cell_type": "code",
   "execution_count": null,
   "metadata": {},
   "outputs": [],
   "source": []
  }
 ],
 "metadata": {
  "kernelspec": {
   "display_name": "global",
   "language": "python",
   "name": "python3"
  },
  "language_info": {
   "codemirror_mode": {
    "name": "ipython",
    "version": 3
   },
   "file_extension": ".py",
   "mimetype": "text/x-python",
   "name": "python",
   "nbconvert_exporter": "python",
   "pygments_lexer": "ipython3",
   "version": "3.10.9"
  },
  "orig_nbformat": 4
 },
 "nbformat": 4,
 "nbformat_minor": 2
}
