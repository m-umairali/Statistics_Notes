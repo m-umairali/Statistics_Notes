{
 "cells": [
  {
   "attachments": {},
   "cell_type": "markdown",
   "metadata": {},
   "source": [
    "## Quantiles and Percentiles\n",
    "Quantiles are statistica measures used to divide a set of numerical data into equal sized groups, with each group containing an equal number of observations.\n",
    "\n",
    "Quantiles are important measure of **variablitiy** and can be use to understand distribution of data, summarize and compare different datasets. They can also be used to identify outliers.\n",
    "\n",
    "There are several types of quantiles used in statistical analysis: \n",
    "\n",
    "1. Quartiles: <br>\n",
    " A quartile is a type of quantile that divides a dataset into four equal parts. Specifically, the first quartile (also known as Q1 or the 25th percentile) is the value that separates the lowest 25% of the data from the rest, the second quartile (also known as Q2 or the 50th percentile) is the value that separates the lowest 50% of the data from the rest (this is also the median), and the third quartile (also known as Q3 or the 75th percentile) is the value that separates the lowest 75% of the data from the rest.\n",
    "\n",
    "![](https://sigmamagic.com/blogs/images/quartiles.jpg)\n",
    "\n",
    "2. Decile: <br>\n",
    "A decile is a type of quantile that divides a dataset into ten equal parts. Specifically, the first decile (also known as D1 or the 10th percentile) is the value that separates the lowest 10% of the data from the rest, the second decile (also known as D2 or the 20th percentile) is the value that separates the lowest 20% of the data from the rest, and so on, up to the tenth decile (also known as D10 or the 100th percentile), which represents the maximum value in the dataset.\n",
    "\n",
    "![](https://slideplayer.com/slide/15453981/93/images/5/Deciles+D1%2C+D2%2C+D3%2C+D4%2C+D5%2C+D6%2C+D7%2C+D8%2C+D9.+divides+ranked+data+into+ten+equal+parts.+10%25.jpg)\n",
    "\n",
    "3. Percentile: <br>\n",
    "A percentile is a type of quantile that divides a dataset into 100 equal parts. Specifically, the nth percentile is the value that separates the lowest n% of the data from the rest, where n can range from 1 to 100. For example, the 25th percentile (also known as the first quartile or Q1) is the value that separates the lowest 25% of the data from the rest, and the 75th percentile (also known as the third quartile or Q3) is the value that separates the lowest 75% of the data from the rest.\n",
    "\n",
    "![](https://www.mathsisfun.com/data/images/percentile-80.svg)\n",
    "\n",
    "4. Quintile: <br>\n",
    "A quintile is a type of quantile that divides a dataset into five equal parts. Specifically, the first quintile (also known as Q1 or the 20th percentile) is the value that separates the lowest 20% of the data from the rest, the second quintile (also known as Q2 or the 40th percentile) is the value that separates the lowest 40% of the data from the rest, and so on, up to the fifth quintile (also known as Q5 or the 100th percentile), which represents the maximum value in the dataset.\n"
   ]
  },
  {
   "attachments": {},
   "cell_type": "markdown",
   "metadata": {},
   "source": [
    "## Things to remember while calculating these measures:\n",
    "1. Data should be sorted from low to high\n",
    "2. You are basically finding the location of an observation.\n",
    "3. They are not actual values in the data\n",
    "4. All other ties can be easily derived from percentile"
   ]
  },
  {
   "attachments": {},
   "cell_type": "markdown",
   "metadata": {},
   "source": [
    "## Percentiles\n",
    "So we can derived other 'tiles' from the Percentile so it is important to read percentile so that other measure can be derived whenever you want.\n",
    "\n",
    "Percentile is a measure used to describe how a specific value in a dataset compares to other values in the same dataset. It tells you what percentage of the values in the dataset fall below that specific value.\n",
    "\n",
    "For example, if you score in the 90th percentile on a test, it means that you performed better than 90% of the people who took the same test. The percentile is based on the rank of your score compared to all the other scores in the dataset.\n",
    "\n",
    "Percentiles are commonly used in many fields, including education, healthcare, and finance, to compare the performance or status of individuals to a larger group or population. They can also be used to identify outliers or extreme values in a dataset.\n",
    "\n",
    "![](https://cdn.wallstreetmojo.com/wp-content/uploads/2019/04/Percentile-Rank-Formula-1.jpg)\n",
    "\n",
    "- where R is the desired percentile location\n",
    "- N is the total number of observation in the dataset\n",
    "- P is the percentile rank (expressed as percentage)\n",
    "\n",
    "Example:\n",
    "\n",
    "- Find the 75th percentile of the given data step by step\n",
    "> 78,82,84,86,88,90,92,93,95,96,99\n",
    "\n",
    "To find the 75th percentile of the given data, follow these steps:\n",
    "\n",
    "- Order the data set from smallest to largest:\n",
    "78, 82, 84, 86, 88, 90, 92, 93, 95, 96, 99\n",
    "\n",
    "- Calculate the index of the 75th percentile using the formula:\n",
    "Index = (percentile/100) x (n + 1)\n",
    "where percentile = 75 and n = the number of data points in the set.\n",
    "In this case, n = 11, so\n",
    "Index = (75/100) x (11 + 1) = 8.\n",
    "\n",
    "- Since the index is not a whole number, we need to interpolate to find the 75th percentile value. To do this, we take the average of the 8th and 9th values in the ordered data set:\n",
    "(92 + 93)/2 = 92.5.\n",
    "\n",
    "- Therefore, the 75th percentile of the given data is 92.5"
   ]
  },
  {
   "cell_type": "code",
   "execution_count": null,
   "metadata": {},
   "outputs": [],
   "source": []
  }
 ],
 "metadata": {
  "language_info": {
   "name": "python"
  },
  "orig_nbformat": 4
 },
 "nbformat": 4,
 "nbformat_minor": 2
}
