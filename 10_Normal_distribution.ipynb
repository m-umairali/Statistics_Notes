{
 "cells": [
  {
   "attachments": {},
   "cell_type": "markdown",
   "metadata": {},
   "source": [
    "## Normal Distribution\n",
    "Normal distribution also known as Gaussian Distribution (Bell curve), is a probability distribution (with the <mark>mean value located at the center and the standard deviation determining the width of the curve.</mark> ) that is commonly used in statistical analysis. It is continous probability distributions that is symmetrical around the mean, with a bell shaped curve.\n",
    "\n",
    "\n",
    "\n",
    "<img src=\"https://www.spcforexcel.com/files/images/nd.png\" alt=\"drawing\" width=\"45%\" height=\"200\"/>\n",
    "\n",
    "\n",
    "$f(x) = \\frac{1}{\\sigma \\sqrt{2\\pi}} e^{-\\frac{(x-\\mu)^2}{2\\sigma^2}}$\n",
    "\n",
    "- f(x) is the probability density function (PDF) of the normal distribution for a given value of x.\n",
    "- σ (sigma) is the standard deviation of the distribution.\n",
    "- μ (mu) is the mean or expected value of the distribution.\n",
    "- e is the mathematical constant e (approximately 2.71828).\n",
    "- π is the mathematical constant pi (approximately 3.14159).\n",
    "- √(2π) is the square root of 2π.\n",
    "\n",
    "## Why is it important\n",
    "Commonality in nature, many natural phenomena follows a normal distribution. such as height of people, weights of objects, IQ score of population etc. \n",
    "\n",
    "Note: If you have standard deviation and mean you can easily draw the graph.\n"
   ]
  },
  {
   "cell_type": "code",
   "execution_count": null,
   "metadata": {},
   "outputs": [],
   "source": []
  },
  {
   "cell_type": "code",
   "execution_count": null,
   "metadata": {},
   "outputs": [],
   "source": []
  }
 ],
 "metadata": {
  "language_info": {
   "name": "python"
  },
  "orig_nbformat": 4
 },
 "nbformat": 4,
 "nbformat_minor": 2
}
