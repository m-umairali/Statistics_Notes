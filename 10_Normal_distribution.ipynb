{
 "cells": [
  {
   "attachments": {},
   "cell_type": "markdown",
   "metadata": {},
   "source": [
    "## Normal Distribution\n",
    "Normal distribution also known as Gaussian Distribution (Bell curve), is a probability distribution (with the mean value located at the center and the standard deviation determining the width of the curve. ) that is commonly used in statistical analysis. It is continous probability distributions that is symmetrical around the mean, with a bell shaped curve.\n",
    "\n",
    "\n",
    "\n",
    "<img src=\"https://www.spcforexcel.com/files/images/nd.png\" alt=\"drawing\" width=\"45%\" height=\"200\"/>"
   ]
  },
  {
   "cell_type": "code",
   "execution_count": null,
   "metadata": {},
   "outputs": [],
   "source": []
  },
  {
   "cell_type": "code",
   "execution_count": null,
   "metadata": {},
   "outputs": [],
   "source": []
  }
 ],
 "metadata": {
  "language_info": {
   "name": "python"
  },
  "orig_nbformat": 4
 },
 "nbformat": 4,
 "nbformat_minor": 2
}
